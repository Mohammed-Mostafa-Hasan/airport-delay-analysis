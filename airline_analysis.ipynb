{
 "cells": [
  {
   "cell_type": "markdown",
   "id": "ff9e77f8-3903-4748-989f-95cdd6d78d8e",
   "metadata": {},
   "source": [
    "## data analysis with r for airport delay reasons"
   ]
  },
  {
   "cell_type": "code",
   "execution_count": 5,
   "id": "5c3083cf-6e49-4689-ad1f-dc9ea9fd7780",
   "metadata": {},
   "outputs": [],
   "source": [
    "# Load tidyverse\n",
    "library(tidyverse)"
   ]
  },
  {
   "cell_type": "code",
   "execution_count": 6,
   "id": "95771116-d829-4869-bb53-dc1272e35282",
   "metadata": {},
   "outputs": [
    {
     "name": "stderr",
     "output_type": "stream",
     "text": [
      "Warning message in untar2(tarfile, files, list, exdir, restore_times):\n",
      "“using pax extended headers”"
     ]
    }
   ],
   "source": [
    "#read data \n",
    "# url where the data is located\n",
    "url <- \"https://dax-cdn.cdn.appdomain.cloud/dax-airline/1.0.1/lax_to_jfk.tar.gz\"\n",
    "# download the file\n",
    "download.file(url, destfile = \"lax_to_jfk.tar.gz\")\n",
    "# untar the file so we can get the csv only\n",
    "untar(\"lax_to_jfk.tar.gz\", tar = \"internal\")\n",
    "# read_csv only \n",
    "sub_airline <- read_csv(\"lax_to_jfk/lax_to_jfk.csv\",\n",
    "                     col_types = cols(\n",
    "                      'DivDistance' = col_number(),\n",
    "                      'DivArrDelay' = col_number()\n",
    "                      ))"
   ]
  },
  {
   "cell_type": "code",
   "execution_count": 7,
   "id": "c4714307-80a0-4937-bf65-63a5729663ff",
   "metadata": {},
   "outputs": [
    {
     "data": {
      "text/html": [
       "<table>\n",
       "<thead><tr><th scope=col>Month</th><th scope=col>DayOfWeek</th><th scope=col>FlightDate</th><th scope=col>Reporting_Airline</th><th scope=col>Origin</th><th scope=col>Dest</th><th scope=col>CRSDepTime</th><th scope=col>CRSArrTime</th><th scope=col>DepTime</th><th scope=col>ArrTime</th><th scope=col>...</th><th scope=col>ArrDelayMinutes</th><th scope=col>CarrierDelay</th><th scope=col>WeatherDelay</th><th scope=col>NASDelay</th><th scope=col>SecurityDelay</th><th scope=col>LateAircraftDelay</th><th scope=col>DepDelay</th><th scope=col>DepDelayMinutes</th><th scope=col>DivDistance</th><th scope=col>DivArrDelay</th></tr></thead>\n",
       "<tbody>\n",
       "\t<tr><td> 3        </td><td>5         </td><td>2003-03-28</td><td>UA        </td><td>LAX       </td><td>JFK       </td><td>2210      </td><td>0615      </td><td>2209      </td><td>0617      </td><td>...       </td><td>2         </td><td>NA        </td><td>NA        </td><td>NA        </td><td>NA        </td><td>NA        </td><td>-1        </td><td>0         </td><td>NA        </td><td>NA        </td></tr>\n",
       "\t<tr><td>11        </td><td>4         </td><td>2018-11-29</td><td>AS        </td><td>LAX       </td><td>JFK       </td><td>1045      </td><td>1912      </td><td>1049      </td><td>1851      </td><td>...       </td><td>0         </td><td>NA        </td><td>NA        </td><td>NA        </td><td>NA        </td><td>NA        </td><td> 4        </td><td>4         </td><td>NA        </td><td>NA        </td></tr>\n",
       "\t<tr><td> 8        </td><td>5         </td><td>2015-08-28</td><td>UA        </td><td>LAX       </td><td>JFK       </td><td>0805      </td><td>1634      </td><td>0757      </td><td>1620      </td><td>...       </td><td>0         </td><td>NA        </td><td>NA        </td><td>NA        </td><td>NA        </td><td>NA        </td><td>-8        </td><td>0         </td><td>NA        </td><td>NA        </td></tr>\n",
       "</tbody>\n",
       "</table>\n"
      ],
      "text/latex": [
       "\\begin{tabular}{r|lllllllllllllllllllll}\n",
       " Month & DayOfWeek & FlightDate & Reporting\\_Airline & Origin & Dest & CRSDepTime & CRSArrTime & DepTime & ArrTime & ... & ArrDelayMinutes & CarrierDelay & WeatherDelay & NASDelay & SecurityDelay & LateAircraftDelay & DepDelay & DepDelayMinutes & DivDistance & DivArrDelay\\\\\n",
       "\\hline\n",
       "\t  3         & 5          & 2003-03-28 & UA         & LAX        & JFK        & 2210       & 0615       & 2209       & 0617       & ...        & 2          & NA         & NA         & NA         & NA         & NA         & -1         & 0          & NA         & NA        \\\\\n",
       "\t 11         & 4          & 2018-11-29 & AS         & LAX        & JFK        & 1045       & 1912       & 1049       & 1851       & ...        & 0          & NA         & NA         & NA         & NA         & NA         &  4         & 4          & NA         & NA        \\\\\n",
       "\t  8         & 5          & 2015-08-28 & UA         & LAX        & JFK        & 0805       & 1634       & 0757       & 1620       & ...        & 0          & NA         & NA         & NA         & NA         & NA         & -8         & 0          & NA         & NA        \\\\\n",
       "\\end{tabular}\n"
      ],
      "text/markdown": [
       "\n",
       "| Month | DayOfWeek | FlightDate | Reporting_Airline | Origin | Dest | CRSDepTime | CRSArrTime | DepTime | ArrTime | ... | ArrDelayMinutes | CarrierDelay | WeatherDelay | NASDelay | SecurityDelay | LateAircraftDelay | DepDelay | DepDelayMinutes | DivDistance | DivArrDelay |\n",
       "|---|---|---|---|---|---|---|---|---|---|---|---|---|---|---|---|---|---|---|---|---|\n",
       "|  3         | 5          | 2003-03-28 | UA         | LAX        | JFK        | 2210       | 0615       | 2209       | 0617       | ...        | 2          | NA         | NA         | NA         | NA         | NA         | -1         | 0          | NA         | NA         |\n",
       "| 11         | 4          | 2018-11-29 | AS         | LAX        | JFK        | 1045       | 1912       | 1049       | 1851       | ...        | 0          | NA         | NA         | NA         | NA         | NA         |  4         | 4          | NA         | NA         |\n",
       "|  8         | 5          | 2015-08-28 | UA         | LAX        | JFK        | 0805       | 1634       | 0757       | 1620       | ...        | 0          | NA         | NA         | NA         | NA         | NA         | -8         | 0          | NA         | NA         |\n",
       "\n"
      ],
      "text/plain": [
       "  Month DayOfWeek FlightDate Reporting_Airline Origin Dest CRSDepTime\n",
       "1  3    5         2003-03-28 UA                LAX    JFK  2210      \n",
       "2 11    4         2018-11-29 AS                LAX    JFK  1045      \n",
       "3  8    5         2015-08-28 UA                LAX    JFK  0805      \n",
       "  CRSArrTime DepTime ArrTime ... ArrDelayMinutes CarrierDelay WeatherDelay\n",
       "1 0615       2209    0617    ... 2               NA           NA          \n",
       "2 1912       1049    1851    ... 0               NA           NA          \n",
       "3 1634       0757    1620    ... 0               NA           NA          \n",
       "  NASDelay SecurityDelay LateAircraftDelay DepDelay DepDelayMinutes DivDistance\n",
       "1 NA       NA            NA                -1       0               NA         \n",
       "2 NA       NA            NA                 4       4               NA         \n",
       "3 NA       NA            NA                -8       0               NA         \n",
       "  DivArrDelay\n",
       "1 NA         \n",
       "2 NA         \n",
       "3 NA         "
      ]
     },
     "metadata": {},
     "output_type": "display_data"
    }
   ],
   "source": [
    "# show the first n = 3 rows\n",
    "head(sub_airline, 3)"
   ]
  },
  {
   "cell_type": "code",
   "execution_count": 8,
   "id": "68749d8c-3caf-45e3-b895-11d2692c82ba",
   "metadata": {},
   "outputs": [
    {
     "data": {
      "text/html": [
       "<table>\n",
       "<thead><tr><th scope=col>Reporting_Airline</th><th scope=col>avg_carrier_delay</th></tr></thead>\n",
       "<tbody>\n",
       "\t<tr><td>AA       </td><td>24.625000</td></tr>\n",
       "\t<tr><td>AS       </td><td>32.000000</td></tr>\n",
       "\t<tr><td>B6       </td><td>25.500000</td></tr>\n",
       "\t<tr><td>DL       </td><td> 0.000000</td></tr>\n",
       "\t<tr><td>HP       </td><td> 0.000000</td></tr>\n",
       "\t<tr><td>PA (1)   </td><td>      NaN</td></tr>\n",
       "\t<tr><td>TW       </td><td>      NaN</td></tr>\n",
       "\t<tr><td>UA       </td><td> 0.000000</td></tr>\n",
       "\t<tr><td>VX       </td><td> 2.333333</td></tr>\n",
       "</tbody>\n",
       "</table>\n"
      ],
      "text/latex": [
       "\\begin{tabular}{r|ll}\n",
       " Reporting\\_Airline & avg\\_carrier\\_delay\\\\\n",
       "\\hline\n",
       "\t AA        & 24.625000\\\\\n",
       "\t AS        & 32.000000\\\\\n",
       "\t B6        & 25.500000\\\\\n",
       "\t DL        &  0.000000\\\\\n",
       "\t HP        &  0.000000\\\\\n",
       "\t PA (1)    &       NaN\\\\\n",
       "\t TW        &       NaN\\\\\n",
       "\t UA        &  0.000000\\\\\n",
       "\t VX        &  2.333333\\\\\n",
       "\\end{tabular}\n"
      ],
      "text/markdown": [
       "\n",
       "| Reporting_Airline | avg_carrier_delay |\n",
       "|---|---|\n",
       "| AA        | 24.625000 |\n",
       "| AS        | 32.000000 |\n",
       "| B6        | 25.500000 |\n",
       "| DL        |  0.000000 |\n",
       "| HP        |  0.000000 |\n",
       "| PA (1)    |       NaN |\n",
       "| TW        |       NaN |\n",
       "| UA        |  0.000000 |\n",
       "| VX        |  2.333333 |\n",
       "\n"
      ],
      "text/plain": [
       "  Reporting_Airline avg_carrier_delay\n",
       "1 AA                24.625000        \n",
       "2 AS                32.000000        \n",
       "3 B6                25.500000        \n",
       "4 DL                 0.000000        \n",
       "5 HP                 0.000000        \n",
       "6 PA (1)                  NaN        \n",
       "7 TW                      NaN        \n",
       "8 UA                 0.000000        \n",
       "9 VX                 2.333333        "
      ]
     },
     "metadata": {},
     "output_type": "display_data"
    }
   ],
   "source": [
    "#make summurization for carrierdelay in each reporting air line\n",
    "sub_airline %>% filter(Month == 1) %>%\n",
    "group_by(Reporting_Airline)%>%\n",
    "summarize(avg_carrier_delay =\n",
    "mean(CarrierDelay, na.rm = TRUE))"
   ]
  },
  {
   "cell_type": "code",
   "execution_count": null,
   "id": "ffff5412-d3f0-416e-8589-3d8c35871d1a",
   "metadata": {},
   "outputs": [],
   "source": [
    "#check each column type and name and data accros\n",
    "glimpse(sub_airline)"
   ]
  },
  {
   "cell_type": "code",
   "execution_count": 9,
   "id": "8f62d4a1-0ffe-4fd4-9927-f2c7190ca9f7",
   "metadata": {},
   "outputs": [
    {
     "data": {
      "text/html": [
       "<table>\n",
       "<thead><tr><th scope=col>count</th></tr></thead>\n",
       "<tbody>\n",
       "\t<tr><td>2855</td></tr>\n",
       "</tbody>\n",
       "</table>\n"
      ],
      "text/latex": [
       "\\begin{tabular}{r|l}\n",
       " count\\\\\n",
       "\\hline\n",
       "\t 2855\\\\\n",
       "\\end{tabular}\n"
      ],
      "text/markdown": [
       "\n",
       "| count |\n",
       "|---|\n",
       "| 2855 |\n",
       "\n"
      ],
      "text/plain": [
       "  count\n",
       "1 2855 "
      ]
     },
     "metadata": {},
     "output_type": "display_data"
    }
   ],
   "source": [
    "# count number of missing value in DivArrDelay\n",
    "sub_airline %>%\n",
    "summarize(count=sum(is.na(DivArrDelay)))\n",
    "          "
   ]
  },
  {
   "cell_type": "code",
   "execution_count": 10,
   "id": "b68c4bbb-5ad5-459c-9e60-2c8ab7a476f8",
   "metadata": {},
   "outputs": [
    {
     "data": {
      "text/html": [
       "<ol class=list-inline>\n",
       "\t<li>2855</li>\n",
       "\t<li>21</li>\n",
       "</ol>\n"
      ],
      "text/latex": [
       "\\begin{enumerate*}\n",
       "\\item 2855\n",
       "\\item 21\n",
       "\\end{enumerate*}\n"
      ],
      "text/markdown": [
       "1. 2855\n",
       "2. 21\n",
       "\n",
       "\n"
      ],
      "text/plain": [
       "[1] 2855   21"
      ]
     },
     "metadata": {},
     "output_type": "display_data"
    }
   ],
   "source": [
    "dim(sub_airline)"
   ]
  },
  {
   "cell_type": "code",
   "execution_count": 11,
   "id": "5b4b4579-2b77-49f0-84c3-8cbbe7cd55e7",
   "metadata": {},
   "outputs": [
    {
     "data": {
      "text/html": [
       "<dl>\n",
       "\t<dt>$Month</dt>\n",
       "\t\t<dd>0</dd>\n",
       "\t<dt>$DayOfWeek</dt>\n",
       "\t\t<dd>0</dd>\n",
       "\t<dt>$FlightDate</dt>\n",
       "\t\t<dd>0</dd>\n",
       "\t<dt>$Reporting_Airline</dt>\n",
       "\t\t<dd>0</dd>\n",
       "\t<dt>$Origin</dt>\n",
       "\t\t<dd>0</dd>\n",
       "\t<dt>$Dest</dt>\n",
       "\t\t<dd>0</dd>\n",
       "\t<dt>$CRSDepTime</dt>\n",
       "\t\t<dd>0</dd>\n",
       "\t<dt>$CRSArrTime</dt>\n",
       "\t\t<dd>0</dd>\n",
       "\t<dt>$DepTime</dt>\n",
       "\t\t<dd>0</dd>\n",
       "\t<dt>$ArrTime</dt>\n",
       "\t\t<dd>0</dd>\n",
       "\t<dt>$ArrDelay</dt>\n",
       "\t\t<dd>0</dd>\n",
       "\t<dt>$ArrDelayMinutes</dt>\n",
       "\t\t<dd>0</dd>\n",
       "\t<dt>$CarrierDelay</dt>\n",
       "\t\t<dd>2486</dd>\n",
       "\t<dt>$WeatherDelay</dt>\n",
       "\t\t<dd>2486</dd>\n",
       "\t<dt>$NASDelay</dt>\n",
       "\t\t<dd>2486</dd>\n",
       "\t<dt>$SecurityDelay</dt>\n",
       "\t\t<dd>2486</dd>\n",
       "\t<dt>$LateAircraftDelay</dt>\n",
       "\t\t<dd>2486</dd>\n",
       "\t<dt>$DepDelay</dt>\n",
       "\t\t<dd>0</dd>\n",
       "\t<dt>$DepDelayMinutes</dt>\n",
       "\t\t<dd>0</dd>\n",
       "\t<dt>$DivDistance</dt>\n",
       "\t\t<dd>2855</dd>\n",
       "\t<dt>$DivArrDelay</dt>\n",
       "\t\t<dd>2855</dd>\n",
       "</dl>\n"
      ],
      "text/latex": [
       "\\begin{description}\n",
       "\\item[\\$Month] 0\n",
       "\\item[\\$DayOfWeek] 0\n",
       "\\item[\\$FlightDate] 0\n",
       "\\item[\\$Reporting\\_Airline] 0\n",
       "\\item[\\$Origin] 0\n",
       "\\item[\\$Dest] 0\n",
       "\\item[\\$CRSDepTime] 0\n",
       "\\item[\\$CRSArrTime] 0\n",
       "\\item[\\$DepTime] 0\n",
       "\\item[\\$ArrTime] 0\n",
       "\\item[\\$ArrDelay] 0\n",
       "\\item[\\$ArrDelayMinutes] 0\n",
       "\\item[\\$CarrierDelay] 2486\n",
       "\\item[\\$WeatherDelay] 2486\n",
       "\\item[\\$NASDelay] 2486\n",
       "\\item[\\$SecurityDelay] 2486\n",
       "\\item[\\$LateAircraftDelay] 2486\n",
       "\\item[\\$DepDelay] 0\n",
       "\\item[\\$DepDelayMinutes] 0\n",
       "\\item[\\$DivDistance] 2855\n",
       "\\item[\\$DivArrDelay] 2855\n",
       "\\end{description}\n"
      ],
      "text/markdown": [
       "$Month\n",
       ":   0\n",
       "$DayOfWeek\n",
       ":   0\n",
       "$FlightDate\n",
       ":   0\n",
       "$Reporting_Airline\n",
       ":   0\n",
       "$Origin\n",
       ":   0\n",
       "$Dest\n",
       ":   0\n",
       "$CRSDepTime\n",
       ":   0\n",
       "$CRSArrTime\n",
       ":   0\n",
       "$DepTime\n",
       ":   0\n",
       "$ArrTime\n",
       ":   0\n",
       "$ArrDelay\n",
       ":   0\n",
       "$ArrDelayMinutes\n",
       ":   0\n",
       "$CarrierDelay\n",
       ":   2486\n",
       "$WeatherDelay\n",
       ":   2486\n",
       "$NASDelay\n",
       ":   2486\n",
       "$SecurityDelay\n",
       ":   2486\n",
       "$LateAircraftDelay\n",
       ":   2486\n",
       "$DepDelay\n",
       ":   0\n",
       "$DepDelayMinutes\n",
       ":   0\n",
       "$DivDistance\n",
       ":   2855\n",
       "$DivArrDelay\n",
       ":   2855\n",
       "\n",
       "\n"
      ],
      "text/plain": [
       "$Month\n",
       "[1] 0\n",
       "\n",
       "$DayOfWeek\n",
       "[1] 0\n",
       "\n",
       "$FlightDate\n",
       "[1] 0\n",
       "\n",
       "$Reporting_Airline\n",
       "[1] 0\n",
       "\n",
       "$Origin\n",
       "[1] 0\n",
       "\n",
       "$Dest\n",
       "[1] 0\n",
       "\n",
       "$CRSDepTime\n",
       "[1] 0\n",
       "\n",
       "$CRSArrTime\n",
       "[1] 0\n",
       "\n",
       "$DepTime\n",
       "[1] 0\n",
       "\n",
       "$ArrTime\n",
       "[1] 0\n",
       "\n",
       "$ArrDelay\n",
       "[1] 0\n",
       "\n",
       "$ArrDelayMinutes\n",
       "[1] 0\n",
       "\n",
       "$CarrierDelay\n",
       "[1] 2486\n",
       "\n",
       "$WeatherDelay\n",
       "[1] 2486\n",
       "\n",
       "$NASDelay\n",
       "[1] 2486\n",
       "\n",
       "$SecurityDelay\n",
       "[1] 2486\n",
       "\n",
       "$LateAircraftDelay\n",
       "[1] 2486\n",
       "\n",
       "$DepDelay\n",
       "[1] 0\n",
       "\n",
       "$DepDelayMinutes\n",
       "[1] 0\n",
       "\n",
       "$DivDistance\n",
       "[1] 2855\n",
       "\n",
       "$DivArrDelay\n",
       "[1] 2855\n"
      ]
     },
     "metadata": {},
     "output_type": "display_data"
    }
   ],
   "source": [
    "#to find number  of missing values in each columns\n",
    "map(sub_airline,~sum(is.na(.)))"
   ]
  },
  {
   "cell_type": "code",
   "execution_count": 12,
   "id": "8f66813d-6160-480b-bd1f-218b2d7f5a68",
   "metadata": {},
   "outputs": [
    {
     "data": {
      "text/html": [
       "<dl class=dl-horizontal>\n",
       "\t<dt>Month</dt>\n",
       "\t\t<dd>'double'</dd>\n",
       "\t<dt>DayOfWeek</dt>\n",
       "\t\t<dd>'double'</dd>\n",
       "\t<dt>FlightDate</dt>\n",
       "\t\t<dd>'double'</dd>\n",
       "\t<dt>Reporting_Airline</dt>\n",
       "\t\t<dd>'character'</dd>\n",
       "\t<dt>Origin</dt>\n",
       "\t\t<dd>'character'</dd>\n",
       "\t<dt>Dest</dt>\n",
       "\t\t<dd>'character'</dd>\n",
       "\t<dt>CRSDepTime</dt>\n",
       "\t\t<dd>'character'</dd>\n",
       "\t<dt>CRSArrTime</dt>\n",
       "\t\t<dd>'character'</dd>\n",
       "\t<dt>DepTime</dt>\n",
       "\t\t<dd>'character'</dd>\n",
       "\t<dt>ArrTime</dt>\n",
       "\t\t<dd>'character'</dd>\n",
       "\t<dt>ArrDelay</dt>\n",
       "\t\t<dd>'double'</dd>\n",
       "\t<dt>ArrDelayMinutes</dt>\n",
       "\t\t<dd>'double'</dd>\n",
       "\t<dt>CarrierDelay</dt>\n",
       "\t\t<dd>'double'</dd>\n",
       "\t<dt>WeatherDelay</dt>\n",
       "\t\t<dd>'double'</dd>\n",
       "\t<dt>NASDelay</dt>\n",
       "\t\t<dd>'double'</dd>\n",
       "\t<dt>SecurityDelay</dt>\n",
       "\t\t<dd>'double'</dd>\n",
       "\t<dt>LateAircraftDelay</dt>\n",
       "\t\t<dd>'double'</dd>\n",
       "\t<dt>DepDelay</dt>\n",
       "\t\t<dd>'double'</dd>\n",
       "\t<dt>DepDelayMinutes</dt>\n",
       "\t\t<dd>'double'</dd>\n",
       "\t<dt>DivDistance</dt>\n",
       "\t\t<dd>'double'</dd>\n",
       "\t<dt>DivArrDelay</dt>\n",
       "\t\t<dd>'double'</dd>\n",
       "</dl>\n"
      ],
      "text/latex": [
       "\\begin{description*}\n",
       "\\item[Month] 'double'\n",
       "\\item[DayOfWeek] 'double'\n",
       "\\item[FlightDate] 'double'\n",
       "\\item[Reporting\\textbackslash{}\\_Airline] 'character'\n",
       "\\item[Origin] 'character'\n",
       "\\item[Dest] 'character'\n",
       "\\item[CRSDepTime] 'character'\n",
       "\\item[CRSArrTime] 'character'\n",
       "\\item[DepTime] 'character'\n",
       "\\item[ArrTime] 'character'\n",
       "\\item[ArrDelay] 'double'\n",
       "\\item[ArrDelayMinutes] 'double'\n",
       "\\item[CarrierDelay] 'double'\n",
       "\\item[WeatherDelay] 'double'\n",
       "\\item[NASDelay] 'double'\n",
       "\\item[SecurityDelay] 'double'\n",
       "\\item[LateAircraftDelay] 'double'\n",
       "\\item[DepDelay] 'double'\n",
       "\\item[DepDelayMinutes] 'double'\n",
       "\\item[DivDistance] 'double'\n",
       "\\item[DivArrDelay] 'double'\n",
       "\\end{description*}\n"
      ],
      "text/markdown": [
       "Month\n",
       ":   'double'DayOfWeek\n",
       ":   'double'FlightDate\n",
       ":   'double'Reporting_Airline\n",
       ":   'character'Origin\n",
       ":   'character'Dest\n",
       ":   'character'CRSDepTime\n",
       ":   'character'CRSArrTime\n",
       ":   'character'DepTime\n",
       ":   'character'ArrTime\n",
       ":   'character'ArrDelay\n",
       ":   'double'ArrDelayMinutes\n",
       ":   'double'CarrierDelay\n",
       ":   'double'WeatherDelay\n",
       ":   'double'NASDelay\n",
       ":   'double'SecurityDelay\n",
       ":   'double'LateAircraftDelay\n",
       ":   'double'DepDelay\n",
       ":   'double'DepDelayMinutes\n",
       ":   'double'DivDistance\n",
       ":   'double'DivArrDelay\n",
       ":   'double'\n",
       "\n"
      ],
      "text/plain": [
       "            Month         DayOfWeek        FlightDate Reporting_Airline \n",
       "         \"double\"          \"double\"          \"double\"       \"character\" \n",
       "           Origin              Dest        CRSDepTime        CRSArrTime \n",
       "      \"character\"       \"character\"       \"character\"       \"character\" \n",
       "          DepTime           ArrTime          ArrDelay   ArrDelayMinutes \n",
       "      \"character\"       \"character\"          \"double\"          \"double\" \n",
       "     CarrierDelay      WeatherDelay          NASDelay     SecurityDelay \n",
       "         \"double\"          \"double\"          \"double\"          \"double\" \n",
       "LateAircraftDelay          DepDelay   DepDelayMinutes       DivDistance \n",
       "         \"double\"          \"double\"          \"double\"          \"double\" \n",
       "      DivArrDelay \n",
       "         \"double\" "
      ]
     },
     "metadata": {},
     "output_type": "display_data"
    }
   ],
   "source": [
    "# check each columns data type \n",
    "sapply(sub_airline,typeof)"
   ]
  },
  {
   "cell_type": "code",
   "execution_count": 13,
   "id": "a267fff0-af21-46fa-b793-c926a6967c04",
   "metadata": {},
   "outputs": [
    {
     "data": {
      "image/png": "[encoded data removed]",
      "text/plain": [
       "plot without title"
      ]
     },
     "metadata": {},
     "output_type": "display_data"
    }
   ],
   "source": [
    "# check the distribution of values in arrdelay columns\n",
    "ggplot(data = sub_airline,\n",
    "mapping = aes(x = ArrDelay))+\n",
    "geom_histogram(bins = 100, color = \"white\",fill = \"red\")"
   ]
  },
  {
   "cell_type": "code",
   "execution_count": 14,
   "id": "22555442-9173-42b9-b396-395a3cce24c3",
   "metadata": {},
   "outputs": [
    {
     "data": {
      "text/html": [
       "<table>\n",
       "<thead><tr><th scope=col>Month</th><th scope=col>DayOfWeek</th><th scope=col>FlightDate</th><th scope=col>Reporting_Airline</th><th scope=col>Origin</th><th scope=col>Dest</th><th scope=col>CRSDepTime</th><th scope=col>CRSArrTime</th><th scope=col>DepTime</th><th scope=col>ArrTime</th><th scope=col>...</th><th scope=col>CarrierDelay</th><th scope=col>WeatherDelay</th><th scope=col>NASDelay</th><th scope=col>SecurityDelay</th><th scope=col>LateAircraftDelay</th><th scope=col>DepDelay</th><th scope=col>DepDelayMinutes</th><th scope=col>DivDistance</th><th scope=col>DivArrDelay</th><th scope=col>quantile_rank</th></tr></thead>\n",
       "<tbody>\n",
       "\t<tr><td> 3        </td><td>5         </td><td>2003-03-28</td><td>UA        </td><td>LAX       </td><td>JFK       </td><td>2210      </td><td>0615      </td><td>2209      </td><td>0617      </td><td>...       </td><td>NA        </td><td>NA        </td><td>NA        </td><td>NA        </td><td>NA        </td><td>-1        </td><td>0         </td><td>NA        </td><td>NA        </td><td>3         </td></tr>\n",
       "\t<tr><td>11        </td><td>4         </td><td>2018-11-29</td><td>AS        </td><td>LAX       </td><td>JFK       </td><td>1045      </td><td>1912      </td><td>1049      </td><td>1851      </td><td>...       </td><td>NA        </td><td>NA        </td><td>NA        </td><td>NA        </td><td>NA        </td><td> 4        </td><td>4         </td><td>NA        </td><td>NA        </td><td>1         </td></tr>\n",
       "\t<tr><td> 8        </td><td>5         </td><td>2015-08-28</td><td>UA        </td><td>LAX       </td><td>JFK       </td><td>0805      </td><td>1634      </td><td>0757      </td><td>1620      </td><td>...       </td><td>NA        </td><td>NA        </td><td>NA        </td><td>NA        </td><td>NA        </td><td>-8        </td><td>0         </td><td>NA        </td><td>NA        </td><td>2         </td></tr>\n",
       "\t<tr><td> 4        </td><td>7         </td><td>2003-04-20</td><td>DL        </td><td>LAX       </td><td>JFK       </td><td>2205      </td><td>0619      </td><td>2212      </td><td>0616      </td><td>...       </td><td>NA        </td><td>NA        </td><td>NA        </td><td>NA        </td><td>NA        </td><td> 7        </td><td>7         </td><td>NA        </td><td>NA        </td><td>2         </td></tr>\n",
       "\t<tr><td>11        </td><td>3         </td><td>2005-11-30</td><td>UA        </td><td>LAX       </td><td>JFK       </td><td>0840      </td><td>1653      </td><td>0836      </td><td>1640      </td><td>...       </td><td>NA        </td><td>NA        </td><td>NA        </td><td>NA        </td><td>NA        </td><td>-4        </td><td>0         </td><td>NA        </td><td>NA        </td><td>2         </td></tr>\n",
       "\t<tr><td> 4        </td><td>1         </td><td>1992-04-06</td><td>UA        </td><td>LAX       </td><td>JFK       </td><td>1450      </td><td>2308      </td><td>1452      </td><td>2248      </td><td>...       </td><td>NA        </td><td>NA        </td><td>NA        </td><td>NA        </td><td>NA        </td><td> 2        </td><td>2         </td><td>NA        </td><td>NA        </td><td>1         </td></tr>\n",
       "</tbody>\n",
       "</table>\n"
      ],
      "text/latex": [
       "\\begin{tabular}{r|llllllllllllllllllllll}\n",
       " Month & DayOfWeek & FlightDate & Reporting\\_Airline & Origin & Dest & CRSDepTime & CRSArrTime & DepTime & ArrTime & ... & CarrierDelay & WeatherDelay & NASDelay & SecurityDelay & LateAircraftDelay & DepDelay & DepDelayMinutes & DivDistance & DivArrDelay & quantile\\_rank\\\\\n",
       "\\hline\n",
       "\t  3         & 5          & 2003-03-28 & UA         & LAX        & JFK        & 2210       & 0615       & 2209       & 0617       & ...        & NA         & NA         & NA         & NA         & NA         & -1         & 0          & NA         & NA         & 3         \\\\\n",
       "\t 11         & 4          & 2018-11-29 & AS         & LAX        & JFK        & 1045       & 1912       & 1049       & 1851       & ...        & NA         & NA         & NA         & NA         & NA         &  4         & 4          & NA         & NA         & 1         \\\\\n",
       "\t  8         & 5          & 2015-08-28 & UA         & LAX        & JFK        & 0805       & 1634       & 0757       & 1620       & ...        & NA         & NA         & NA         & NA         & NA         & -8         & 0          & NA         & NA         & 2         \\\\\n",
       "\t  4         & 7          & 2003-04-20 & DL         & LAX        & JFK        & 2205       & 0619       & 2212       & 0616       & ...        & NA         & NA         & NA         & NA         & NA         &  7         & 7          & NA         & NA         & 2         \\\\\n",
       "\t 11         & 3          & 2005-11-30 & UA         & LAX        & JFK        & 0840       & 1653       & 0836       & 1640       & ...        & NA         & NA         & NA         & NA         & NA         & -4         & 0          & NA         & NA         & 2         \\\\\n",
       "\t  4         & 1          & 1992-04-06 & UA         & LAX        & JFK        & 1450       & 2308       & 1452       & 2248       & ...        & NA         & NA         & NA         & NA         & NA         &  2         & 2          & NA         & NA         & 1         \\\\\n",
       "\\end{tabular}\n"
      ],
      "text/markdown": [
       "\n",
       "| Month | DayOfWeek | FlightDate | Reporting_Airline | Origin | Dest | CRSDepTime | CRSArrTime | DepTime | ArrTime | ... | CarrierDelay | WeatherDelay | NASDelay | SecurityDelay | LateAircraftDelay | DepDelay | DepDelayMinutes | DivDistance | DivArrDelay | quantile_rank |\n",
       "|---|---|---|---|---|---|---|---|---|---|---|---|---|---|---|---|---|---|---|---|---|\n",
       "|  3         | 5          | 2003-03-28 | UA         | LAX        | JFK        | 2210       | 0615       | 2209       | 0617       | ...        | NA         | NA         | NA         | NA         | NA         | -1         | 0          | NA         | NA         | 3          |\n",
       "| 11         | 4          | 2018-11-29 | AS         | LAX        | JFK        | 1045       | 1912       | 1049       | 1851       | ...        | NA         | NA         | NA         | NA         | NA         |  4         | 4          | NA         | NA         | 1          |\n",
       "|  8         | 5          | 2015-08-28 | UA         | LAX        | JFK        | 0805       | 1634       | 0757       | 1620       | ...        | NA         | NA         | NA         | NA         | NA         | -8         | 0          | NA         | NA         | 2          |\n",
       "|  4         | 7          | 2003-04-20 | DL         | LAX        | JFK        | 2205       | 0619       | 2212       | 0616       | ...        | NA         | NA         | NA         | NA         | NA         |  7         | 7          | NA         | NA         | 2          |\n",
       "| 11         | 3          | 2005-11-30 | UA         | LAX        | JFK        | 0840       | 1653       | 0836       | 1640       | ...        | NA         | NA         | NA         | NA         | NA         | -4         | 0          | NA         | NA         | 2          |\n",
       "|  4         | 1          | 1992-04-06 | UA         | LAX        | JFK        | 1450       | 2308       | 1452       | 2248       | ...        | NA         | NA         | NA         | NA         | NA         |  2         | 2          | NA         | NA         | 1          |\n",
       "\n"
      ],
      "text/plain": [
       "  Month DayOfWeek FlightDate Reporting_Airline Origin Dest CRSDepTime\n",
       "1  3    5         2003-03-28 UA                LAX    JFK  2210      \n",
       "2 11    4         2018-11-29 AS                LAX    JFK  1045      \n",
       "3  8    5         2015-08-28 UA                LAX    JFK  0805      \n",
       "4  4    7         2003-04-20 DL                LAX    JFK  2205      \n",
       "5 11    3         2005-11-30 UA                LAX    JFK  0840      \n",
       "6  4    1         1992-04-06 UA                LAX    JFK  1450      \n",
       "  CRSArrTime DepTime ArrTime ... CarrierDelay WeatherDelay NASDelay\n",
       "1 0615       2209    0617    ... NA           NA           NA      \n",
       "2 1912       1049    1851    ... NA           NA           NA      \n",
       "3 1634       0757    1620    ... NA           NA           NA      \n",
       "4 0619       2212    0616    ... NA           NA           NA      \n",
       "5 1653       0836    1640    ... NA           NA           NA      \n",
       "6 2308       1452    2248    ... NA           NA           NA      \n",
       "  SecurityDelay LateAircraftDelay DepDelay DepDelayMinutes DivDistance\n",
       "1 NA            NA                -1       0               NA         \n",
       "2 NA            NA                 4       4               NA         \n",
       "3 NA            NA                -8       0               NA         \n",
       "4 NA            NA                 7       7               NA         \n",
       "5 NA            NA                -4       0               NA         \n",
       "6 NA            NA                 2       2               NA         \n",
       "  DivArrDelay quantile_rank\n",
       "1 NA          3            \n",
       "2 NA          1            \n",
       "3 NA          2            \n",
       "4 NA          2            \n",
       "5 NA          2            \n",
       "6 NA          1            "
      ]
     },
     "metadata": {},
     "output_type": "display_data"
    }
   ],
   "source": [
    "#create four bins from values in arrdealay and stor it in new column \n",
    "head(sub_airline %>%\n",
    " mutate(quantile_rank =\n",
    "ntile(sub_airline$ArrDelay,4\n",
    ")))"
   ]
  },
  {
   "cell_type": "code",
   "execution_count": 16,
   "id": "7cc5a04f-5772-47da-a544-62586c62a90c",
   "metadata": {},
   "outputs": [
    {
     "data": {
      "text/html": [
       "<table>\n",
       "<thead><tr><th scope=col>Month</th><th scope=col>DayOfWeek</th><th scope=col>FlightDate</th><th scope=col>Origin</th><th scope=col>Dest</th><th scope=col>CRSDepTime</th><th scope=col>CRSArrTime</th><th scope=col>DepTime</th><th scope=col>ArrTime</th><th scope=col>ArrDelayMinutes</th><th scope=col>...</th><th scope=col>DivArrDelay</th><th scope=col>AA</th><th scope=col>AS</th><th scope=col>B6</th><th scope=col>DL</th><th scope=col>HP</th><th scope=col>PA (1)</th><th scope=col>TW</th><th scope=col>UA</th><th scope=col>VX</th></tr></thead>\n",
       "<tbody>\n",
       "\t<tr><td> 3        </td><td>5         </td><td>2003-03-28</td><td>LAX       </td><td>JFK       </td><td>2210      </td><td>0615      </td><td>2209      </td><td>0617      </td><td>2         </td><td>...       </td><td>NA        </td><td>NA        </td><td> NA       </td><td>NA        </td><td>NA        </td><td>NA        </td><td>NA        </td><td>NA        </td><td>  2       </td><td>NA        </td></tr>\n",
       "\t<tr><td>11        </td><td>4         </td><td>2018-11-29</td><td>LAX       </td><td>JFK       </td><td>1045      </td><td>1912      </td><td>1049      </td><td>1851      </td><td>0         </td><td>...       </td><td>NA        </td><td>NA        </td><td>-21       </td><td>NA        </td><td>NA        </td><td>NA        </td><td>NA        </td><td>NA        </td><td> NA       </td><td>NA        </td></tr>\n",
       "\t<tr><td> 8        </td><td>5         </td><td>2015-08-28</td><td>LAX       </td><td>JFK       </td><td>0805      </td><td>1634      </td><td>0757      </td><td>1620      </td><td>0         </td><td>...       </td><td>NA        </td><td>NA        </td><td> NA       </td><td>NA        </td><td>NA        </td><td>NA        </td><td>NA        </td><td>NA        </td><td>-14       </td><td>NA        </td></tr>\n",
       "\t<tr><td> 4        </td><td>7         </td><td>2003-04-20</td><td>LAX       </td><td>JFK       </td><td>2205      </td><td>0619      </td><td>2212      </td><td>0616      </td><td>0         </td><td>...       </td><td>NA        </td><td>NA        </td><td> NA       </td><td>NA        </td><td>-3        </td><td>NA        </td><td>NA        </td><td>NA        </td><td> NA       </td><td>NA        </td></tr>\n",
       "\t<tr><td>11        </td><td>3         </td><td>2005-11-30</td><td>LAX       </td><td>JFK       </td><td>0840      </td><td>1653      </td><td>0836      </td><td>1640      </td><td>0         </td><td>...       </td><td>NA        </td><td>NA        </td><td> NA       </td><td>NA        </td><td>NA        </td><td>NA        </td><td>NA        </td><td>NA        </td><td>-13       </td><td>NA        </td></tr>\n",
       "\t<tr><td> 4        </td><td>1         </td><td>1992-04-06</td><td>LAX       </td><td>JFK       </td><td>1450      </td><td>2308      </td><td>1452      </td><td>2248      </td><td>0         </td><td>...       </td><td>NA        </td><td>NA        </td><td> NA       </td><td>NA        </td><td>NA        </td><td>NA        </td><td>NA        </td><td>NA        </td><td>-20       </td><td>NA        </td></tr>\n",
       "</tbody>\n",
       "</table>\n"
      ],
      "text/latex": [
       "\\begin{tabular}{r|llllllllllllllllllllllllllll}\n",
       " Month & DayOfWeek & FlightDate & Origin & Dest & CRSDepTime & CRSArrTime & DepTime & ArrTime & ArrDelayMinutes & ... & DivArrDelay & AA & AS & B6 & DL & HP & PA (1) & TW & UA & VX\\\\\n",
       "\\hline\n",
       "\t  3         & 5          & 2003-03-28 & LAX        & JFK        & 2210       & 0615       & 2209       & 0617       & 2          & ...        & NA         & NA         &  NA        & NA         & NA         & NA         & NA         & NA         &   2        & NA        \\\\\n",
       "\t 11         & 4          & 2018-11-29 & LAX        & JFK        & 1045       & 1912       & 1049       & 1851       & 0          & ...        & NA         & NA         & -21        & NA         & NA         & NA         & NA         & NA         &  NA        & NA        \\\\\n",
       "\t  8         & 5          & 2015-08-28 & LAX        & JFK        & 0805       & 1634       & 0757       & 1620       & 0          & ...        & NA         & NA         &  NA        & NA         & NA         & NA         & NA         & NA         & -14        & NA        \\\\\n",
       "\t  4         & 7          & 2003-04-20 & LAX        & JFK        & 2205       & 0619       & 2212       & 0616       & 0          & ...        & NA         & NA         &  NA        & NA         & -3         & NA         & NA         & NA         &  NA        & NA        \\\\\n",
       "\t 11         & 3          & 2005-11-30 & LAX        & JFK        & 0840       & 1653       & 0836       & 1640       & 0          & ...        & NA         & NA         &  NA        & NA         & NA         & NA         & NA         & NA         & -13        & NA        \\\\\n",
       "\t  4         & 1          & 1992-04-06 & LAX        & JFK        & 1450       & 2308       & 1452       & 2248       & 0          & ...        & NA         & NA         &  NA        & NA         & NA         & NA         & NA         & NA         & -20        & NA        \\\\\n",
       "\\end{tabular}\n"
      ],
      "text/markdown": [
       "\n",
       "| Month | DayOfWeek | FlightDate | Origin | Dest | CRSDepTime | CRSArrTime | DepTime | ArrTime | ArrDelayMinutes | ... | DivArrDelay | AA | AS | B6 | DL | HP | PA (1) | TW | UA | VX |\n",
       "|---|---|---|---|---|---|---|---|---|---|---|---|---|---|---|---|---|---|---|---|---|\n",
       "|  3         | 5          | 2003-03-28 | LAX        | JFK        | 2210       | 0615       | 2209       | 0617       | 2          | ...        | NA         | NA         |  NA        | NA         | NA         | NA         | NA         | NA         |   2        | NA         |\n",
       "| 11         | 4          | 2018-11-29 | LAX        | JFK        | 1045       | 1912       | 1049       | 1851       | 0          | ...        | NA         | NA         | -21        | NA         | NA         | NA         | NA         | NA         |  NA        | NA         |\n",
       "|  8         | 5          | 2015-08-28 | LAX        | JFK        | 0805       | 1634       | 0757       | 1620       | 0          | ...        | NA         | NA         |  NA        | NA         | NA         | NA         | NA         | NA         | -14        | NA         |\n",
       "|  4         | 7          | 2003-04-20 | LAX        | JFK        | 2205       | 0619       | 2212       | 0616       | 0          | ...        | NA         | NA         |  NA        | NA         | -3         | NA         | NA         | NA         |  NA        | NA         |\n",
       "| 11         | 3          | 2005-11-30 | LAX        | JFK        | 0840       | 1653       | 0836       | 1640       | 0          | ...        | NA         | NA         |  NA        | NA         | NA         | NA         | NA         | NA         | -13        | NA         |\n",
       "|  4         | 1          | 1992-04-06 | LAX        | JFK        | 1450       | 2308       | 1452       | 2248       | 0          | ...        | NA         | NA         |  NA        | NA         | NA         | NA         | NA         | NA         | -20        | NA         |\n",
       "\n"
      ],
      "text/plain": [
       "  Month DayOfWeek FlightDate Origin Dest CRSDepTime CRSArrTime DepTime ArrTime\n",
       "1  3    5         2003-03-28 LAX    JFK  2210       0615       2209    0617   \n",
       "2 11    4         2018-11-29 LAX    JFK  1045       1912       1049    1851   \n",
       "3  8    5         2015-08-28 LAX    JFK  0805       1634       0757    1620   \n",
       "4  4    7         2003-04-20 LAX    JFK  2205       0619       2212    0616   \n",
       "5 11    3         2005-11-30 LAX    JFK  0840       1653       0836    1640   \n",
       "6  4    1         1992-04-06 LAX    JFK  1450       2308       1452    2248   \n",
       "  ArrDelayMinutes ... DivArrDelay AA AS  B6 DL HP PA (1) TW UA  VX\n",
       "1 2               ... NA          NA  NA NA NA NA NA     NA   2 NA\n",
       "2 0               ... NA          NA -21 NA NA NA NA     NA  NA NA\n",
       "3 0               ... NA          NA  NA NA NA NA NA     NA -14 NA\n",
       "4 0               ... NA          NA  NA NA -3 NA NA     NA  NA NA\n",
       "5 0               ... NA          NA  NA NA NA NA NA     NA -13 NA\n",
       "6 0               ... NA          NA  NA NA NA NA NA     NA -20 NA"
      ]
     },
     "metadata": {},
     "output_type": "display_data"
    }
   ],
   "source": [
    "#used to split each value in reporting _airline to columns with value direct in array column and the other values in none\n",
    "head(sub_airline %>%\n",
    "spread(Reporting_Airline,\n",
    "ArrDelay))"
   ]
  },
  {
   "cell_type": "code",
   "execution_count": null,
   "id": "286077bb-ee2a-44e0-86bb-ba581852292e",
   "metadata": {},
   "outputs": [],
   "source": [
    "\n",
    "avg_delays <- sub_airline %>%\n",
    "group_by(Reporting_Airline, DayOfWeek) %>%\n",
    "summarize(mean_delays =\n",
    "mean(ArrDelayMinutes))"
   ]
  },
  {
   "cell_type": "code",
   "execution_count": null,
   "id": "c49102f2-e8a8-4db3-8be0-5cc14ab24187",
   "metadata": {},
   "outputs": [],
   "source": []
  },
  {
   "cell_type": "code",
   "execution_count": null,
   "id": "bd6d1bd3-f9b9-4e5a-b8c1-fa252eb69a19",
   "metadata": {},
   "outputs": [],
   "source": []
  },
  {
   "cell_type": "code",
   "execution_count": null,
   "id": "165e5230-3416-45ec-ae0b-47878f89da27",
   "metadata": {},
   "outputs": [],
   "source": []
  },
  {
   "cell_type": "code",
   "execution_count": null,
   "id": "28eef29f-43ff-49df-9b55-d3547366c8e7",
   "metadata": {},
   "outputs": [],
   "source": []
  },
  {
   "cell_type": "code",
   "execution_count": null,
   "id": "e5781984-70a3-4a1a-88b3-a46a5e6a6ffd",
   "metadata": {},
   "outputs": [],
   "source": []
  }
 ],
 "metadata": {
  "kernelspec": {
   "display_name": "R",
   "language": "R",
   "name": "ir"
  },
  "language_info": {
   "codemirror_mode": "r",
   "file_extension": ".r",
   "mimetype": "text/x-r-source",
   "name": "R",
   "pygments_lexer": "r",
   "version": "3.6.1"
  }
 },
 "nbformat": 4,
 "nbformat_minor": 5
}
